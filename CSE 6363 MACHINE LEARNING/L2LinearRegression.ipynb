{
  "nbformat": 4,
  "nbformat_minor": 0,
  "metadata": {
    "colab": {
      "provenance": []
    },
    "kernelspec": {
      "name": "python3",
      "display_name": "Python 3"
    },
    "language_info": {
      "name": "python"
    }
  },
  "cells": [
    {
      "cell_type": "markdown",
      "source": [
        "# Task 1"
      ],
      "metadata": {
        "id": "N4rpTwFTUmTg"
      }
    },
    {
      "cell_type": "code",
      "execution_count": 86,
      "metadata": {
        "id": "Pg1VYxluUaoj"
      },
      "outputs": [],
      "source": [
        "import numpy as np\n",
        "\n",
        "\n",
        "class LinearRegression:\n",
        "    \"\"\"\n",
        "    Fit function will use to train the model and updated weight and bias\n",
        "    1. initializing the weight and bias with random\n",
        "    2. For each epoch update the best weight and best bias if val_loss is decreasing\n",
        "    3. Split the data into given batch size and calculate new weight and new bias\n",
        "    4. Calculate the loss accordingly the regularization value if regularization is 0(default) than it will give normal LR and MSE loss or else it will L2 regression with given learning rate\n",
        "    5. Predict with the weight and bias with given input data\n",
        "    6. Calculate the MSE score with score function\n",
        "    \"\"\"\n",
        "    def __init__(self, batch_size=32, regularization=0, max_epochs=100, patience=3, alpha=0.001):\n",
        "        self.weight = None\n",
        "        self.alpha = alpha\n",
        "        self.batch_size = batch_size\n",
        "        self.regularization = regularization\n",
        "        self.max_epochs = max_epochs\n",
        "        self.patience = patience\n",
        "        self.bias = None\n",
        "        self.error = []\n",
        "        self.steps = []\n",
        "        self.l2_error = []\n",
        "        self.l2_loss = []\n",
        "        self.mse_loss = []\n",
        "\n",
        "    def mean_squared(self, X, target):\n",
        "        \"\"\"\n",
        "        MSE calulated\n",
        "        :param X: input Data\n",
        "        :param target: Original Output data\n",
        "        :return: MSE value\n",
        "\n",
        "        Finding the mean squared error by the given formula\n",
        "        \"\"\"\n",
        "        squared_error = ((np.dot(X, self.weight) + self.bias) - target) ** 2\n",
        "        return np.sum(squared_error) / len(target)\n",
        "\n",
        "    def gradient(self, X, y):\n",
        "        \"\"\"\n",
        "        for mse which we will subtract from self.weight in normal regularization\n",
        "\n",
        "        :param X: input Data\n",
        "        :param y: Output Original\n",
        "        :return: gradient\n",
        "        \"\"\"\n",
        "        # print(self.weight.shape,self.bias.shape,X.shape)\n",
        "        # pred_y = (np.dot(self.weight.T,X.T)+self.bias)\n",
        "        # print(pred_y.shape)\n",
        "        # print(y.shape)\n",
        "        # residual_error = pred_y-y.T\n",
        "        # print(\"Residual error\")\n",
        "        # print(residual_error.shape)\n",
        "        # dot_prod = np.dot(residual_error,X)\n",
        "        # print(dot_prod.shape)\n",
        "        # return (2/len(y))* dot_prod\n",
        "\n",
        "        error = (np.dot(X, self.weight) + self.bias) - y\n",
        "        sum_of_error = np.sum(error)\n",
        "        return (2 / len(y)) * sum_of_error\n",
        "\n",
        "    def l2_regularization(self, X, y, reg_lambda_term):\n",
        "        \"\"\"\n",
        "        Will calculate the l2 loss as well as normal loss when lambda is zero\n",
        "        :param X: input_x\n",
        "        :param y: ouput original y\n",
        "        :param reg_lambda_term: lambda term for L2\n",
        "        :return:\n",
        "        \"\"\"\n",
        "        squared_error = np.sum(((np.dot(X, self.weight) + self.bias) - y) ** 2)\n",
        "        normal_regularization_term = np.mean(squared_error)\n",
        "        return normal_regularization_term + reg_lambda_term\n",
        "\n",
        "    def l2_gradient(self, X, y):\n",
        "        \"\"\"\n",
        "        Will calculate l2_gradient to subtract for derivative of weight\n",
        "        :param X: input_x\n",
        "        :param y: ouput original y\n",
        "        :return:\n",
        "        \"\"\"\n",
        "        error_term = ((np.dot(X, self.weight) + self.bias) - y) # error term\n",
        "        dot_product = np.dot(X.T, error_term) # dot product of X transpose with error term\n",
        "        regularized_term = (self.regularization * self.weight) # lambda multiply with w\n",
        "        return (1 / len(y)) * dot_product + regularized_term\n",
        "\n",
        "    def gradient_descent_l2(self, X, y, batch_size, alpha, regularization):\n",
        "        \"\"\"\n",
        "        Here the l2 loss will be calculated and weight and bias will be updated accordingly for each batch\n",
        "        :param X: input_x\n",
        "        :param y: ouput original y\n",
        "        :param batch_size: batch size default to 32\n",
        "        :param alpha: alpha which  learning rate\n",
        "        :param regularization: lab=mbda term\n",
        "        :return: error per batch\n",
        "        \"\"\"\n",
        "        self.regularization = regularization\n",
        "        # calculating total no. of batches\n",
        "        n = X.shape[0] // batch_size\n",
        "        i = 0\n",
        "        error = []\n",
        "        # iterate each batch\n",
        "        for i in range(n + 1):\n",
        "            start_val = i * batch_size\n",
        "            end_val = (i + 1) * batch_size\n",
        "            input_x = X[start_val:end_val, :]  # input batch value\n",
        "            target = y[start_val:end_val]  # original output batch terms\n",
        "            output = input_x @ self.weight + self.bias  # predicted term\n",
        "            sum_of_square_of_weight = np.sum(np.square(self.weight))\n",
        "            lambda_2m = (self.regularization / 2 * batch_size) \n",
        "            reg_lambda_term = lambda_2m * sum_of_square_of_weight  # calculate reg lambda term\n",
        "            self.l2_loss.append(\n",
        "                self.l2_regularization(input_x, target, reg_lambda_term))  # appending the reg loss for each small batch\n",
        "            der_weight = self.weight - alpha * self.l2_gradient(input_x, target)  # derivatives if weight\n",
        "            self.weight = der_weight\n",
        "            der_bias = self.bias - alpha * ((1 / len(output)) * np.sum(output - target))\n",
        "            self.bias = der_bias\n",
        "            error.append(self.l2_regularization(input_x, target, reg_lambda_term))  # appending each batch loss\n",
        "        if X.shape[0] % batch_size != 0:\n",
        "            star_val = i * batch_size\n",
        "            input_x = X[star_val:X.shape[0]]\n",
        "            target = y[star_val:X.shape[0]]\n",
        "            output = input_x @ self.weight + self.bias  # predicted term\n",
        "            sum_of_square_of_weight = np.sum(np.square(self.weight))\n",
        "            lambda_2m = (self.regularization / 2 * batch_size)\n",
        "            reg_lambda_term = lambda_2m * sum_of_square_of_weight  # calculate reg lambda term\n",
        "            self.l2_loss.append(\n",
        "                self.l2_regularization(input_x, target, reg_lambda_term))  # appending the reg loss for each small batch\n",
        "            der_weight = self.weight - alpha * self.l2_gradient(input_x, target)  # derivatives if weight\n",
        "            self.weight = der_weight\n",
        "            der_bias = self.bias - alpha * ((1 / len(output)) * np.sum(output - target)) # derivatives of bias\n",
        "            self.bias = der_bias\n",
        "            error.append(self.l2_regularization(input_x, target, reg_lambda_term))  # appending each batch loss\n",
        "        return np.mean(error)  # Mean of all error\n",
        "\n",
        "    def fit(self, X, y, batch_size=32, max_epochs=100, alpha=0.01, regularization=0, patience=3):\n",
        "        \"\"\"\n",
        "        function will give the best weight and best bias by calculating the best validation loss initializing alpha batch size and patience value\n",
        "        :param X: input\n",
        "        :param y: output original\n",
        "        :param batch_size: default to 32\n",
        "        :param max_epochs: amx steps default to 100\n",
        "        :param alpha: learning rate default to 0.01\n",
        "        :param regularization: lambda term default to zero\n",
        "        :param patience: default to 3\n",
        "        :return: none\n",
        "        \"\"\"\n",
        "        nSamples, nFeatures = X.shape\n",
        "        self.weight = np.random.randn(X.shape[1], y.shape[1])  # initializing random normalized weight\n",
        "        self.bias = np.random.randn(1, y.shape[1])  # initializing random normalized bias\n",
        "        # 10 % of validating set and 10 % of train set\n",
        "        val_set_num_start = int(0.9 * nSamples)\n",
        "        val_X = X[val_set_num_start:, :]\n",
        "        val_y = y[val_set_num_start:, :]\n",
        "        # train set 90%\n",
        "        X = X[:val_set_num_start, :]\n",
        "        y = y[:val_set_num_start, :]\n",
        "        best_weights = None  # initialize best weights\n",
        "        best_bias = None  # initialize best bias\n",
        "        best_val_loss = float('inf')  # initialize best val loss default to inf\n",
        "        no_improvement = 0  # for patience initialize it\n",
        "        # iterating to max_epochs\n",
        "        for i in range(max_epochs):\n",
        "            self.steps.append(i)  # used for plotting\n",
        "            self.l2_error.append(self.gradient_descent_l2(X, y, batch_size, alpha,\n",
        "                                                          regularization))  # used for plotting and get the updated weight and bias for each epoch\n",
        "            val_pred = val_X @ self.weight + self.bias  # validation set prediction\n",
        "            lambda_2m = (self.regularization / 2 * batch_size)\n",
        "            sum_of_square_of_weight = np.sum(np.square(self.weight))\n",
        "            reg_lambda_term = lambda_2m * sum_of_square_of_weight  # reg _labda  term\n",
        "            val_loss = np.mean(np.square(val_pred - val_y)) + reg_lambda_term  # validation loss prediction\n",
        "            # if the validation loss is decreasing than then we will not change the no_improvement variable else increase\n",
        "            if val_loss < best_val_loss:\n",
        "                best_val_loss = val_loss\n",
        "                best_weights = self.weight.copy()  # make a copy\n",
        "                best_bias = self.bias.copy() # make a copy\n",
        "                no_improvement = 0 # change it to zero\n",
        "            else:\n",
        "                no_improvement += 1 # increment value\n",
        "                if no_improvement == patience: # check for the patience value\n",
        "                    break\n",
        "        self.weight = best_weights # re-initialize withe new weight and bias\n",
        "        self.bias = best_bias # re-initialize withe new weight and bias\n",
        "        # print(best_bias,best_weights)\n",
        "        # print(self.weight, self.bias)\n",
        "\n",
        "    # def gradient_descent(self, X, y, batch_size, alpha):\n",
        "    #     \"\"\"\n",
        "    #     calculating gradient_descent of each batch\n",
        "    #     :param X:\n",
        "    #     :param y:\n",
        "    #     :param batch_size:\n",
        "    #     :param alpha:\n",
        "    #     :return:\n",
        "    #     \"\"\"\n",
        "    #     sample, feature = X.shape\n",
        "    #     output = y\n",
        "    #     # self.weight = np.random.randn(feature, y.shape[1])\n",
        "    #     # self.bias = np.random.randn(1, y.shape[1])\n",
        "    #     n = X.shape[0] // batch_size\n",
        "    #     i = 0\n",
        "    #     error = []\n",
        "    #     for i in range(n + 1):\n",
        "    #         input = X[i * batch_size:(i + 1) * batch_size]\n",
        "    #         target = y[i * batch_size:(i + 1) * batch_size]\n",
        "    #         output = input @ self.weight + self.bias\n",
        "    #         self.mse_loss.append(np.mean(np.square(output - target)))\n",
        "    #         self.weight = self.weight - alpha * self.gradient(input, target)\n",
        "    #         self.bias = self.bias - alpha * ((1 / len(output)) * np.sum(output - target))\n",
        "    #         error.append(self.mean_squared(input, target))\n",
        "    #     if X.shape[0] % batch_size != 0:\n",
        "    #         input = X[i * batch_size:X.shape[0]]\n",
        "    #         target = y[i * batch_size:X.shape[0]]\n",
        "    #         output = input @ self.weight + self.bias\n",
        "    #         self.mse_loss.append(np.mean(np.square(output - target)))\n",
        "    #         self.weight = self.weight - alpha * self.gradient(input, target)\n",
        "    #         self.bias = self.bias - alpha * ((1 / len(output)) * np.sum(output - target))\n",
        "    #         error.append(self.mean_squared(input, target))\n",
        "    #         i = i + 1\n",
        "    #     return np.mean(error)\n",
        "    #\n",
        "    # def fit_normal(self, X, y, batch_size=32, max_epochs=100, alpha=0.01, patience=3):\n",
        "    #     nSamples, nFeatures = X.shape\n",
        "    #     self.weight = np.random.randn(nFeatures, y.shape[1])\n",
        "    #     self.bias = np.random.randn(1, y.shape[1])\n",
        "    #\n",
        "    #     val_X = X[int(0.9 * nSamples):, :]\n",
        "    #     val_y = y[int(0.9 * nSamples):, :]\n",
        "    #     X = X[:int(0.9 * nSamples), :]\n",
        "    #     y = y[:int(0.9 * nSamples), :]\n",
        "    #     best_weights = None\n",
        "    #     best_bias = None\n",
        "    #     best_val_loss = float('inf')\n",
        "    #     no_improvement = 0\n",
        "    #     for i in range(max_epochs):\n",
        "    #         self.steps.append(i)\n",
        "    #         self.error.append(self.gradient_descent(X, y, batch_size, alpha))\n",
        "    #         val_pred = val_X @ self.weight + self.bias\n",
        "    #         val_loss = np.mean(np.square(val_pred - val_y))\n",
        "    #         if val_loss < best_val_loss:\n",
        "    #             best_val_loss = val_loss\n",
        "    #             best_weights = self.weight.copy()\n",
        "    #             best_bias = self.bias.copy()\n",
        "    #             no_improvement = 0\n",
        "    #         else:\n",
        "    #             no_improvement += 1\n",
        "    #             if no_improvement == patience:\n",
        "    #                 print(\"i\", i)\n",
        "    #                 break\n",
        "    #     # print(best_bias,best_weights)\n",
        "    #     # print(self.weight, self.bias)\n",
        "    #     self.weight = best_weights\n",
        "    #     self.bias = best_bias\n",
        "\n",
        "    def predict(self, X):\n",
        "        \"\"\"\n",
        "        Predicting the value taking the final best update weight and bias\n",
        "        :param X: input\n",
        "        :return: return predicted value\n",
        "        \"\"\"\n",
        "        return np.dot(X, self.weight) + self.bias\n",
        "\n",
        "    def score(self, X, y):\n",
        "        \"\"\"\n",
        "        calculating the MSE value by predicting the from X input and calulating the squared term\n",
        "        :param X:\n",
        "        :param y:\n",
        "        :return:\n",
        "        \"\"\"\n",
        "        prediction = self.predict(X)\n",
        "        squared_error = np.sum((prediction - y) ** 2)\n",
        "        meanSquaredError = squared_error / (len(X) * len(y))\n",
        "        return meanSquaredError\n"
      ]
    },
    {
      "cell_type": "markdown",
      "source": [
        "# **Task 2**"
      ],
      "metadata": {
        "id": "6wg1GHOsUzNW"
      }
    },
    {
      "cell_type": "markdown",
      "source": [
        "**Predicting with Sepal Length And Sepal Width to Petal Width**"
      ],
      "metadata": {
        "id": "wp-W6XE4SR-D"
      }
    },
    {
      "cell_type": "code",
      "source": [
        "import numpy as np\n",
        "from sklearn.model_selection import train_test_split\n",
        "from sklearn import datasets\n",
        "from matplotlib import pyplot as plt\n",
        "\n",
        "irisDataSet = datasets.load_iris() # Loading the \n",
        "x=irisDataSet.data[:,:2] #Sepal Length And Sepal Width\n",
        "y=irisDataSet.data[:,3:] #Petal Width\n",
        "#Stratify is used to do equal split for each class (Iris Classe)\n",
        "X_train, X_test, y_train, y_test = train_test_split(x, y, test_size = 0.1, random_state= 7, stratify=irisDataSet.target)\n",
        "model1A = LinearRegression() #initialize the model\n",
        "model1A.fit(X_train,y_train,32,100,0.001,0,3) # Here regularization term is zero so it will work like normal linear regression\n",
        "# print(model1A.predict(X_test))\n",
        "print(\"After how many Steps it is getting stopped\",len(model1A.steps))\n",
        "\n",
        "plt.plot(model1A.steps,model1A.l2_error)\n",
        "plt.title('Sepal length, Sepal Width vs Petal width')\n",
        "plt.xlabel('Epoch')\n",
        "plt.ylabel('MSE loss in batch')\n",
        "plt.savefig('Model1A.png')\n",
        "plt.show()\n",
        "\n",
        "print(\"Score for MODEL1A: \",model1A.score(X_test,y_test) )\n",
        "print(\"Best Weights: \",model1A.weight)\n",
        "print(\"Best bias: \",model1A.bias)\n",
        "\n",
        "# # L2 regression\n",
        "# print(\"-------------------------------------------\") \n",
        "# model1B = LinearRegression() #initialize the model\n",
        "# model1B.fit(X_train,y_train,32,100,0.001,0.001,3) # Here regularization term is zero so it will work like normal linear regression\n",
        "# # print(model1A.predict(X_test))\n",
        "# print(\"After how many Steps it is getting stopped\",len(model1B.steps))\n",
        "\n",
        "# plt.plot(model1B.steps,model1B.l2_error)\n",
        "# plt.title('Sepal length, Sepal Width vs Petal width')\n",
        "# plt.xlabel('Epoch')\n",
        "# plt.ylabel('L2 loss in batch')\n",
        "# plt.show()\n",
        "\n",
        "# print(\"Score for MODEL1A: \",model1B.score(X_test,y_test) )\n",
        "# print(\"Best Weights: \",model1B.weight)\n",
        "# print(\"Best bias: \",model1B.bias)\n"
      ],
      "metadata": {
        "colab": {
          "base_uri": "https://localhost:8080/",
          "height": 384
        },
        "id": "LKhdbS9-Uyov",
        "outputId": "3214d62d-d50d-456a-b4b7-c7269a246164"
      },
      "execution_count": 87,
      "outputs": [
        {
          "output_type": "stream",
          "name": "stdout",
          "text": [
            "After how many Steps it is getting stopped 100\n"
          ]
        },
        {
          "output_type": "display_data",
          "data": {
            "text/plain": [
              "<Figure size 432x288 with 1 Axes>"
            ],
            "image/png": "[encoded data removed]"
          },
          "metadata": {
            "needs_background": "light"
          }
        },
        {
          "output_type": "stream",
          "name": "stdout",
          "text": [
            "Score for MODEL1A:  0.08461305596039584\n",
            "Best Weights:  [[-0.33508454]\n",
            " [ 0.76578128]]\n",
            "Best bias:  [[0.7636354]]\n"
          ]
        }
      ]
    },
    {
      "cell_type": "markdown",
      "source": [
        "**Predicting with Petal Length And Petal Width to Sepal Length**"
      ],
      "metadata": {
        "id": "NKtFwZ0KfngE"
      }
    },
    {
      "cell_type": "code",
      "source": [
        "irisDataSet = datasets.load_iris()\n",
        "x=irisDataSet.data[:,2:4] #Petal Length And Petal Width\n",
        "y=irisDataSet.data[:,:1] #Sepal Length\n",
        "X_train, X_test, y_train, y_test = train_test_split(x, y, test_size = 0.1, random_state= 7, stratify=irisDataSet.target)\n",
        "model2A = LinearRegression()\n",
        "model2A.fit(X_train,y_train,32,100,0.001,0,3) # Here regularization term is zero so it will work like normal linear regression\n",
        "# print(model1A.predict(X_test))\n",
        "print(\"After how many Steps it is getting stopped\",len(model2A.steps))\n",
        "\n",
        "plt.plot(model2A.steps,model2A.l2_error)\n",
        "plt.title('Petal length, Petal Width vs Sepal Length ')\n",
        "plt.xlabel('Epoch')\n",
        "plt.ylabel('MSE loss in batch')\n",
        "plt.savefig('Model2A.png')\n",
        "plt.show()\n",
        "\n",
        "print(\"Score for MODEL2A: \",model2A.score(X_test,y_test) )\n",
        "print(\"Best Weights: \",model2A.weight)\n",
        "print(\"Best bias: \",model2A.bias)\n",
        "\n",
        "# # L2 regression\n",
        "# print(\"-------------------------------------------\") \n",
        "# model2B = LinearRegression() #initialize the model\n",
        "# model2B.fit(X_train,y_train,32,100,0.001,0.001,3) # Here regularization term is zero so it will work like normal linear regression\n",
        "# # print(model1A.predict(X_test))\n",
        "# print(\"After how many Steps it is getting stopped\",len(model2B.steps))\n",
        "\n",
        "# plt.plot(model2B.steps,model2B.l2_error)\n",
        "# plt.title('Petal length, Petal Width vs Sepal Length ')\n",
        "# plt.xlabel('Epoch')\n",
        "# plt.ylabel('L2 loss in batch')\n",
        "# plt.savefig('Model2B.png')\n",
        "# plt.show()\n",
        "\n",
        "# print(\"Score for MODEL2B: \",model2B.score(X_test,y_test) )\n",
        "# print(\"Best Weights: \",model2B.weight)\n",
        "# print(\"Best bias: \",model2B.bias)\n"
      ],
      "metadata": {
        "colab": {
          "base_uri": "https://localhost:8080/",
          "height": 384
        },
        "id": "aAnIguG7V7Yi",
        "outputId": "ea1a113e-da4c-4e0e-df2a-2da1105f3d53"
      },
      "execution_count": 92,
      "outputs": [
        {
          "output_type": "stream",
          "name": "stdout",
          "text": [
            "After how many Steps it is getting stopped 100\n"
          ]
        },
        {
          "output_type": "display_data",
          "data": {
            "text/plain": [
              "<Figure size 432x288 with 1 Axes>"
            ],
            "image/png": "[encoded data removed]"
          },
          "metadata": {
            "needs_background": "light"
          }
        },
        {
          "output_type": "stream",
          "name": "stdout",
          "text": [
            "Score for MODEL2A:  0.15023524262116209\n",
            "Best Weights:  [[ 1.68054545]\n",
            " [-1.04713209]]\n",
            "Best bias:  [[0.16961436]]\n"
          ]
        }
      ]
    },
    {
      "cell_type": "markdown",
      "source": [
        "**Predicting with Sepal Width and Petal Length to Petal Width**"
      ],
      "metadata": {
        "id": "Zl7M5CaxwPfl"
      }
    },
    {
      "cell_type": "code",
      "source": [
        "irisDataSet = datasets.load_iris()\n",
        "x=irisDataSet.data[:,1:3] #Sepal Width and Petal Length\n",
        "y=irisDataSet.data[:,3:] #Petal Width\n",
        "X_train, X_test, y_train, y_test = train_test_split(x, y, test_size = 0.1, random_state= 7, stratify=irisDataSet.target)\n",
        "model3A = LinearRegression()\n",
        "model3A.fit(X_train,y_train,32,100,0.001,0,3) # Here regularization term is zero so it will work like normal linear regression\n",
        "# print(model1A.predict(X_test))\n",
        "print(\"After how many Steps it is getting stopped\",len(model3A.steps))\n",
        "\n",
        "plt.plot(model3A.steps,model3A.l2_error)\n",
        "plt.title('Sepal Widhth, Petal Length vs Petal Width')\n",
        "plt.xlabel('Epoch')\n",
        "plt.ylabel('MSE loss in batch')\n",
        "plt.savefig('Model3A.png')\n",
        "plt.show()\n",
        "print(\"Score for MODEL3A: \",model3A.score(X_test,y_test))\n",
        "print(\"Best Weights: \",model3A.weight)\n",
        "print(\"Best bias: \",model3A.bias)\n",
        "\n",
        "# L2 regression\n",
        "print(\"-------------------------------------------\") \n",
        "model3B = LinearRegression() #initialize the model\n",
        "model3B.fit(X_train,y_train,32,100,0.001,0.001,3) # Here regularization term is zero so it will work like normal linear regression\n",
        "# print(model1A.predict(X_test))\n",
        "print(\"After how many Steps it is getting stopped\",len(model3B.steps))\n",
        "\n",
        "plt.plot(model3B.steps,model3B.l2_error)\n",
        "plt.title('Sepal Widhth, Petal Length vs Petal Width')\n",
        "plt.xlabel('Epoch')\n",
        "plt.ylabel('L2 loss in batch')\n",
        "plt.savefig('Model3B.png')\n",
        "plt.show()\n",
        "\n",
        "print(\"Score for MODEL3B: \",model3B.score(X_test,y_test) )\n",
        "print(\"Best Weights: \",model3B.weight)\n",
        "print(\"Best bias: \",model3B.bias)\n"
      ],
      "metadata": {
        "colab": {
          "base_uri": "https://localhost:8080/",
          "height": 769
        },
        "id": "N9B3DK5xdAGQ",
        "outputId": "49275fe8-f0b9-4308-f91f-f125143f3e05"
      },
      "execution_count": 89,
      "outputs": [
        {
          "output_type": "stream",
          "name": "stdout",
          "text": [
            "After how many Steps it is getting stopped 100\n"
          ]
        },
        {
          "output_type": "display_data",
          "data": {
            "text/plain": [
              "<Figure size 432x288 with 1 Axes>"
            ],
            "image/png": "[encoded data removed]"
          },
          "metadata": {
            "needs_background": "light"
          }
        },
        {
          "output_type": "stream",
          "name": "stdout",
          "text": [
            "Score for MODEL3A:  0.005903867291210961\n",
            "Best Weights:  [[-0.03279586]\n",
            " [ 0.56640901]]\n",
            "Best bias:  [[-0.89001121]]\n",
            "-------------------------------------------\n",
            "After how many Steps it is getting stopped 100\n"
          ]
        },
        {
          "output_type": "display_data",
          "data": {
            "text/plain": [
              "<Figure size 432x288 with 1 Axes>"
            ],
            "image/png": "[encoded data removed]"
          },
          "metadata": {
            "needs_background": "light"
          }
        },
        {
          "output_type": "stream",
          "name": "stdout",
          "text": [
            "Score for MODEL3B:  0.008928269706307973\n",
            "Best Weights:  [[0.24033962]\n",
            " [0.26660585]]\n",
            "Best bias:  [[-0.50457037]]\n"
          ]
        }
      ]
    },
    {
      "cell_type": "markdown",
      "source": [
        "**Predicting with Sepal Length and Petal Width to Sepal Width**"
      ],
      "metadata": {
        "id": "ECudI2KKwaRs"
      }
    },
    {
      "cell_type": "code",
      "source": [
        "irisDataSet = datasets.load_iris()\n",
        "x=irisDataSet.data[:,::3] #Sepal Length and Petal Width\n",
        "y=irisDataSet.data[:,1:2] #Sepal Width\n",
        "X_train, X_test, y_train, y_test = train_test_split(x, y, test_size = 0.1, random_state= 7, stratify=irisDataSet.target)\n",
        "model4A = LinearRegression()\n",
        "model4A.fit(X_train,y_train,32,100,0.001,0,3) # Here regularization term is zero so it will work like normal linear regression\n",
        "# print(model1A.predict(X_test))\n",
        "print(\"After how many Steps it is getting stopped\",len(model4A.steps))\n",
        "\n",
        "plt.plot(model4A.steps,model4A.l2_error)\n",
        "plt.title('Sepal length, Petal Width vs Sepal Width ')\n",
        "plt.xlabel('Epoch')\n",
        "plt.ylabel('MSE loss in batch')\n",
        "plt.savefig('Model4A.png')\n",
        "plt.show()\n",
        "print(\"Score for MODEL4A: \",model4A.score(X_test,y_test) )\n",
        "print(\"Best Weights: \",model4A.weight)\n",
        "print(\"Best bias: \",model4A.bias)\n",
        "\n",
        "# # L2 regression\n",
        "# print(\"-------------------------------------------\") \n",
        "# model4B = LinearRegression() #initialize the model\n",
        "# model4B.fit(X_train,y_train,32,100,0.001,0.001,3) # Here regularization term is zero so it will work like normal linear regression\n",
        "# # print(model1A.predict(X_test))\n",
        "# print(\"After how many Steps it is getting stopped\",len(model4B.steps))\n",
        "\n",
        "# plt.plot(model4B.steps,model4B.l2_error)\n",
        "# plt.title('Sepal length, Petal Width vs Sepal Width ')\n",
        "# plt.xlabel('Epoch')\n",
        "# plt.ylabel('L2 loss in batch')\n",
        "# plt.show()\n",
        "\n",
        "# print(\"Score for MODEL4B: \",model4B.score(X_test,y_test) )\n",
        "# print(\"Best Weights: \",model4B.weight)\n",
        "# print(\"Best bias: \",model4B.bias)\n"
      ],
      "metadata": {
        "colab": {
          "base_uri": "https://localhost:8080/",
          "height": 384
        },
        "id": "yZSYff58dbYH",
        "outputId": "94ed8b72-2c61-4ce7-a57d-d4458745b246"
      },
      "execution_count": 90,
      "outputs": [
        {
          "output_type": "stream",
          "name": "stdout",
          "text": [
            "After how many Steps it is getting stopped 7\n"
          ]
        },
        {
          "output_type": "display_data",
          "data": {
            "text/plain": [
              "<Figure size 432x288 with 1 Axes>"
            ],
            "image/png": "[encoded data removed]"
          },
          "metadata": {
            "needs_background": "light"
          }
        },
        {
          "output_type": "stream",
          "name": "stdout",
          "text": [
            "Score for MODEL4A:  0.0727866714224995\n",
            "Best Weights:  [[0.61131758]\n",
            " [0.34498653]]\n",
            "Best bias:  [[-1.42920436]]\n"
          ]
        }
      ]
    },
    {
      "cell_type": "markdown",
      "source": [
        "# Task 3"
      ],
      "metadata": {
        "id": "hH6kT5Qow9K6"
      }
    },
    {
      "cell_type": "code",
      "source": [
        "import numpy as np\n",
        "import pandas as pd\n",
        "import scipy.io as sio\n",
        "from matplotlib import pyplot as plt\n",
        "\n",
        "data_path = \"/content/traffic_dataset.mat\"\n",
        "\n",
        "# The provided data is given in a `.mat` file.\n",
        "# We can load it using the `scipy.io.loadmat` function.\n",
        "mat = sio.loadmat(data_path)\n",
        "input_train = mat['tra_X_tr']\n",
        "output_train = mat['tra_Y_tr'].T\n",
        "input_test = mat['tra_X_te']\n",
        "output_test = mat['tra_Y_te'].T\n",
        "adj_mat = mat['tra_adj_mat']\n",
        "\n",
        "input_train = input_train.squeeze()\n",
        "input_test = input_test.squeeze()\n",
        "\n",
        "# Convert the sparse matrix to a dense matrix\n",
        "data = []\n",
        "test_data = []\n",
        "\n",
        "for i in range(input_train.shape[0]):\n",
        "    data.append(input_train[i].todense())\n",
        "\n",
        "for i in range(input_test.shape[0]):\n",
        "    test_data.append(input_test[i].todense())\n",
        "\n",
        "# Convert the data to a numpy array\n",
        "data = np.array(data)\n",
        "test_data = np.array(test_data)\n",
        "\n",
        "print(data.shape)\n",
        "print(output_train.shape)\n",
        "\n",
        "input_train = np.reshape(data, (1261, 1728))\n",
        "output_train = np.reshape(output_train, (1261, 36))\n",
        "input_test = np.reshape(test_data,(840,1728))\n",
        "output_test = np.reshape(output_test,(840,36))\n",
        "model =  LinearRegression()\n",
        "model.fit(input_train,output_train,16,100,0.001,0.1,3)\n",
        "\n",
        "plt.plot(model.steps,model.l2_error)\n",
        "plt.title('Input Train Vs Input Test ')\n",
        "plt.xlabel('Epoch')\n",
        "plt.ylabel('MSE loss in batch')\n",
        "plt.show()\n",
        "\n",
        "mse = model.score(input_train,output_train)\n",
        "print(\"Mean Square Error for task 3: \",model.score(input_test,output_test) )\n",
        "print(\"Root Mean Square Error for task 3: \",np.sqrt(mse))"
      ],
      "metadata": {
        "colab": {
          "base_uri": "https://localhost:8080/",
          "height": 366
        },
        "id": "R1FsrVKF2Ns6",
        "outputId": "69337647-3ab7-4eb1-bb53-62b56f381b76"
      },
      "execution_count": 91,
      "outputs": [
        {
          "output_type": "stream",
          "name": "stdout",
          "text": [
            "(1261, 36, 48)\n",
            "(1261, 36)\n"
          ]
        },
        {
          "output_type": "display_data",
          "data": {
            "text/plain": [
              "<Figure size 432x288 with 1 Axes>"
            ],
            "image/png": "[encoded data removed]"
          },
          "metadata": {
            "needs_background": "light"
          }
        },
        {
          "output_type": "stream",
          "name": "stdout",
          "text": [
            "Mean Square Error for task 3:  0.008313792186663487\n",
            "Root Mean Square Error for task 3:  0.06270653162069809\n"
          ]
        }
      ]
    }
  ]
}